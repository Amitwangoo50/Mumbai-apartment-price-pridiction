{
  "cells": [
    {
      "cell_type": "markdown",
      "metadata": {
        "id": "view-in-github",
        "colab_type": "text"
      },
      "source": [
        "<a href=\"https://colab.research.google.com/github/Amitwangoo50/Mumbai-apartment-price-pridiction/blob/main/dash_housing_in_mumbai_app_code.ipynb\" target=\"_parent\"><img src=\"https://colab.research.google.com/assets/colab-badge.svg\" alt=\"Open In Colab\"/></a>"
      ]
    },
    {
      "cell_type": "code",
      "execution_count": 1,
      "metadata": {
        "colab": {
          "base_uri": "https://localhost:8080/"
        },
        "id": "8T9Z5e4IL8lP",
        "outputId": "4af884ea-6a7b-4b46-812e-1b2a061fb79e"
      },
      "outputs": [
        {
          "output_type": "stream",
          "name": "stdout",
          "text": [
            "Drive already mounted at /content/drive; to attempt to forcibly remount, call drive.mount(\"/content/drive\", force_remount=True).\n"
          ]
        }
      ],
      "source": [
        "import pandas as pd\n",
        "\n",
        "from google.colab import drive\n",
        "drive.mount('/content/drive')"
      ]
    },
    {
      "cell_type": "code",
      "execution_count": 2,
      "metadata": {
        "id": "KDXD8KKYMgY8"
      },
      "outputs": [],
      "source": [
        "\n",
        "# import io\n",
        "\n",
        " # df = pd.read_csv(\"/content/drive/MyDrive/csv_data/my_Mumbai.csv\").rename(columns={'No. of Bedrooms': 'BHK'})"
      ]
    },
    {
      "cell_type": "code",
      "source": [
        "!pip install dash\n",
        "!pip install category_encoders"
      ],
      "metadata": {
        "colab": {
          "base_uri": "https://localhost:8080/"
        },
        "id": "pqGG6l8G9-LV",
        "outputId": "43c31673-61b6-46be-dd88-32f0f3a00784"
      },
      "execution_count": 5,
      "outputs": [
        {
          "output_type": "stream",
          "name": "stdout",
          "text": [
            "Requirement already satisfied: dash in /usr/local/lib/python3.12/dist-packages (3.2.0)\n",
            "Requirement already satisfied: Flask<3.2,>=1.0.4 in /usr/local/lib/python3.12/dist-packages (from dash) (3.1.2)\n",
            "Requirement already satisfied: Werkzeug<3.2 in /usr/local/lib/python3.12/dist-packages (from dash) (3.1.3)\n",
            "Requirement already satisfied: plotly>=5.0.0 in /usr/local/lib/python3.12/dist-packages (from dash) (5.24.1)\n",
            "Requirement already satisfied: importlib-metadata in /usr/local/lib/python3.12/dist-packages (from dash) (8.7.0)\n",
            "Requirement already satisfied: typing-extensions>=4.1.1 in /usr/local/lib/python3.12/dist-packages (from dash) (4.15.0)\n",
            "Requirement already satisfied: requests in /usr/local/lib/python3.12/dist-packages (from dash) (2.32.4)\n",
            "Requirement already satisfied: retrying in /usr/local/lib/python3.12/dist-packages (from dash) (1.4.2)\n",
            "Requirement already satisfied: nest-asyncio in /usr/local/lib/python3.12/dist-packages (from dash) (1.6.0)\n",
            "Requirement already satisfied: setuptools in /usr/local/lib/python3.12/dist-packages (from dash) (75.2.0)\n",
            "Requirement already satisfied: blinker>=1.9.0 in /usr/local/lib/python3.12/dist-packages (from Flask<3.2,>=1.0.4->dash) (1.9.0)\n",
            "Requirement already satisfied: click>=8.1.3 in /usr/local/lib/python3.12/dist-packages (from Flask<3.2,>=1.0.4->dash) (8.2.1)\n",
            "Requirement already satisfied: itsdangerous>=2.2.0 in /usr/local/lib/python3.12/dist-packages (from Flask<3.2,>=1.0.4->dash) (2.2.0)\n",
            "Requirement already satisfied: jinja2>=3.1.2 in /usr/local/lib/python3.12/dist-packages (from Flask<3.2,>=1.0.4->dash) (3.1.6)\n",
            "Requirement already satisfied: markupsafe>=2.1.1 in /usr/local/lib/python3.12/dist-packages (from Flask<3.2,>=1.0.4->dash) (3.0.2)\n",
            "Requirement already satisfied: tenacity>=6.2.0 in /usr/local/lib/python3.12/dist-packages (from plotly>=5.0.0->dash) (8.5.0)\n",
            "Requirement already satisfied: packaging in /usr/local/lib/python3.12/dist-packages (from plotly>=5.0.0->dash) (25.0)\n",
            "Requirement already satisfied: zipp>=3.20 in /usr/local/lib/python3.12/dist-packages (from importlib-metadata->dash) (3.23.0)\n",
            "Requirement already satisfied: charset_normalizer<4,>=2 in /usr/local/lib/python3.12/dist-packages (from requests->dash) (3.4.3)\n",
            "Requirement already satisfied: idna<4,>=2.5 in /usr/local/lib/python3.12/dist-packages (from requests->dash) (3.10)\n",
            "Requirement already satisfied: urllib3<3,>=1.21.1 in /usr/local/lib/python3.12/dist-packages (from requests->dash) (2.5.0)\n",
            "Requirement already satisfied: certifi>=2017.4.17 in /usr/local/lib/python3.12/dist-packages (from requests->dash) (2025.8.3)\n",
            "Collecting category_encoders\n",
            "  Downloading category_encoders-2.8.1-py3-none-any.whl.metadata (7.9 kB)\n",
            "Requirement already satisfied: numpy>=1.14.0 in /usr/local/lib/python3.12/dist-packages (from category_encoders) (2.0.2)\n",
            "Requirement already satisfied: pandas>=1.0.5 in /usr/local/lib/python3.12/dist-packages (from category_encoders) (2.2.2)\n",
            "Requirement already satisfied: patsy>=0.5.1 in /usr/local/lib/python3.12/dist-packages (from category_encoders) (1.0.1)\n",
            "Requirement already satisfied: scikit-learn>=1.6.0 in /usr/local/lib/python3.12/dist-packages (from category_encoders) (1.6.1)\n",
            "Requirement already satisfied: scipy>=1.0.0 in /usr/local/lib/python3.12/dist-packages (from category_encoders) (1.16.2)\n",
            "Requirement already satisfied: statsmodels>=0.9.0 in /usr/local/lib/python3.12/dist-packages (from category_encoders) (0.14.5)\n",
            "Requirement already satisfied: python-dateutil>=2.8.2 in /usr/local/lib/python3.12/dist-packages (from pandas>=1.0.5->category_encoders) (2.9.0.post0)\n",
            "Requirement already satisfied: pytz>=2020.1 in /usr/local/lib/python3.12/dist-packages (from pandas>=1.0.5->category_encoders) (2025.2)\n",
            "Requirement already satisfied: tzdata>=2022.7 in /usr/local/lib/python3.12/dist-packages (from pandas>=1.0.5->category_encoders) (2025.2)\n",
            "Requirement already satisfied: joblib>=1.2.0 in /usr/local/lib/python3.12/dist-packages (from scikit-learn>=1.6.0->category_encoders) (1.5.2)\n",
            "Requirement already satisfied: threadpoolctl>=3.1.0 in /usr/local/lib/python3.12/dist-packages (from scikit-learn>=1.6.0->category_encoders) (3.6.0)\n",
            "Requirement already satisfied: packaging>=21.3 in /usr/local/lib/python3.12/dist-packages (from statsmodels>=0.9.0->category_encoders) (25.0)\n",
            "Requirement already satisfied: six>=1.5 in /usr/local/lib/python3.12/dist-packages (from python-dateutil>=2.8.2->pandas>=1.0.5->category_encoders) (1.17.0)\n",
            "Downloading category_encoders-2.8.1-py3-none-any.whl (85 kB)\n",
            "\u001b[2K   \u001b[90m━━━━━━━━━━━━━━━━━━━━━━━━━━━━━━━━━━━━━━━━\u001b[0m \u001b[32m85.7/85.7 kB\u001b[0m \u001b[31m2.7 MB/s\u001b[0m eta \u001b[36m0:00:00\u001b[0m\n",
            "\u001b[?25hInstalling collected packages: category_encoders\n",
            "Successfully installed category_encoders-2.8.1\n"
          ]
        }
      ]
    },
    {
      "cell_type": "code",
      "source": [
        "%%writefile requirements.txt\n",
        "dash\n",
        "pandas\n",
        "scikit-learn\n",
        "category_encoders\n",
        "numpy\n",
        "plotly\n",
        "seaborn\n",
        "matplotlib\n",
        "gunicorn"
      ],
      "metadata": {
        "id": "MtJ5UPKxCoNU"
      },
      "execution_count": null,
      "outputs": []
    },
    {
      "cell_type": "code",
      "metadata": {
        "colab": {
          "base_uri": "https://localhost:8080/",
          "height": 671
        },
        "id": "a7475be1",
        "outputId": "2b14c7ba-6f0b-4bfb-d322-654b229baba0"
      },
      "source": [
        "\n",
        "import dash\n",
        "from dash import dcc\n",
        "from dash import html\n",
        "import pandas as pd\n",
        "from dash.dependencies import Input, Output, State\n",
        "import pickle\n",
        "import numpy as np\n",
        "\n",
        "\n",
        "\n",
        "location_keys = np.array(['Airoli', 'Ambernath East', 'Ambernath West', 'Andheri',\n",
        "       'Andheri East', 'Andheri West', 'Badlapur East', 'Bandra West',\n",
        "       'Belapur', 'Bhandup West', 'Bhayandar East', 'Bhiwandi', 'Boisar',\n",
        "       'Borivali East', 'Borivali West', 'Chembur', 'Chembur East',\n",
        "       'Dahisar', 'Dahisar East', 'Dahisar West', 'Dattapada',\n",
        "       'Dombivali', 'Dombivali East', 'Dombivli (West)', 'Dronagiri',\n",
        "       'Ghansoli', 'Ghatkopar West', 'Goregaon', 'Goregaon East',\n",
        "       'Goregaon West', 'Jogeshwari West', 'Juhu', 'Kalwa', 'Kalyan East',\n",
        "       'Kalyan West', 'Kamothe', 'Kandivali East', 'Kandivali West',\n",
        "       'Kanjurmarg', 'Karanjade', 'Karjat', 'Khar West', 'Kharghar',\n",
        "       'Kolshet Road', 'Koper Khairane', 'Koproli', 'Kurla', 'Kurla West',\n",
        "       'Magathane', 'Majiwada', 'Malad East', 'Malad West',\n",
        "       'Mira Road East', 'Mira Road and Beyond', 'Mulund', 'Mulund East',\n",
        "       'Mulund West', 'Mumbai Central', 'Naigaon East', 'Nala Sopara',\n",
        "       'Nalasopara East', 'Nalasopara West', 'Nerul', 'Panvel', 'Parel',\n",
        "       'Powai', 'Sanpada', 'Santacruz East', 'Seawoods', 'Sector 10',\n",
        "       'Sector 17 Ulwe', 'Sector 19 Kharghar', 'Sector 20 Kharghar',\n",
        "       'Sector-18 Ulwe', 'Sector12 Kamothe', 'Sector9 Kamothe', 'Sion',\n",
        "       'Taloja', 'Thakur Village', 'Thane', 'Thane West', 'Titwala',\n",
        "       'Ulwe', 'Vasai', 'Vasai West', 'Vasai east', 'Vashi',\n",
        "       'Ville Parle East', 'Virar', 'Virar East', 'Virar West', 'Wadala',\n",
        "       'Wadala East Wadala', 'matunga east', 'mumbai', 'other']).astype(object)\n",
        "\n",
        "\n",
        "# Load the model\n",
        "with open('/content/drive/MyDrive/my model selection code/Ridge model/Mumbai_apartment_prices_model.pickle', 'rb') as f:\n",
        "    model = pickle.load(f)\n",
        "\n",
        "# Assuming df3 is available in the notebook's environment\n",
        "# If not, you would need to load or recreate it here.\n",
        "# Example: df3 = pd.read_csv('path/to/your/df3.csv')\n",
        "\n",
        "app = dash.Dash(__name__)\n",
        "\n",
        "app.layout = html.Div([\n",
        "    html.Div(style={'backgroundImage': 'url(\"your_background_image_url_here\")',\n",
        "                    'backgroundSize': 'cover',\n",
        "                    'height': '55px', # Adjust height as needed for PC\n",
        "                    'marginBottom': '40px'}), # Adjust margin as needed\n",
        "\n",
        "    html.H1(\"Mumbai Apartment Price Prediction\", style={'textAlign': 'center', 'marginBottom': '40px'}), # Adjust margin as needed\n",
        "\n",
        "    html.Div([\n",
        "        html.H3(\"Area Sq/ft\", style={'textAlign': 'center', 'marginBottom': '10px'}),\n",
        "        dcc.Input(id='area-input', type='number', value=1000, style={'width': 'calc(100% - 10px)'}) # Adjust width\n",
        "    ], style={'marginBottom': '25px', 'width': '50%', 'margin': 'auto'}), # Adjust width and margin\n",
        "\n",
        "    html.Div([\n",
        "        html.H3(\"Location\", style={'textAlign': 'center', 'marginBottom': '10px'}),\n",
        "        dcc.Dropdown(\n",
        "            id='location-dropdown',\n",
        "            options=[{'label': i, 'value': i} for i in location_keys],\n",
        "            value='Kharghar',\n",
        "            style={'width': 'calc(100% - 10px)'} # Adjust width\n",
        "        )\n",
        "    ], style={'marginBottom': '25px', 'width': '50%', 'margin': 'auto'}), # Adjust width and margin\n",
        "\n",
        "    html.Div([\n",
        "        html.H3(\"BHK\", style={'textAlign': 'center', 'marginBottom': '10px'}),\n",
        "        dcc.Dropdown(\n",
        "            id='bhk-input',\n",
        "            options=[{'label': i, 'value': i} for i in range(1, 6)],  # Assuming BHK values from 1 to 5\n",
        "            value=2,\n",
        "            style={'width': 'calc(100% - 10px)'} # Adjust width\n",
        "        )\n",
        "    ], style={'marginBottom': '25px', 'width': '50%', 'margin': 'auto'}), # Adjust width and margin\n",
        "\n",
        "    html.Div([\n",
        "        html.H3(\"Resale\", style={'textAlign': 'center', 'marginBottom': '10px'}),\n",
        "        dcc.Dropdown(\n",
        "            id='resale-dropdown',\n",
        "            options=[{'label': 'True', 'value': True}, {'label': 'False', 'value': False}],\n",
        "            value=True,\n",
        "            style={'width': 'calc(100% - 10px)'} # Adjust width\n",
        "        )\n",
        "    ], style={'marginBottom': '25px', 'width': '50%', 'margin': 'auto'}), # Adjust width and margin\n",
        "\n",
        "    html.Div([\n",
        "        html.H3(\"SwimmingPool\", style={'textAlign': 'center', 'marginBottom': '10px'}),\n",
        "        dcc.Dropdown(\n",
        "            id='swimmingpool-dropdown',\n",
        "            options=[{'label': 'True', 'value': True}, {'label': 'False', 'value': False}],\n",
        "            value=False,\n",
        "            style={'width': 'calc(100% - 10px)'} # Adjust width\n",
        "        )\n",
        "    ], style={'marginBottom': '25px', 'width': '50%', 'margin': 'auto'}), # Adjust width and margin\n",
        "\n",
        "    html.Div([\n",
        "        html.H3(\"LandscapedGardens\", style={'textAlign': 'center', 'marginBottom': '10px'}),\n",
        "        dcc.Dropdown(\n",
        "            id='landscapedgardens-dropdown',\n",
        "            options=[{'label': 'True', 'value': True}, {'label': 'False', 'value': False}],\n",
        "            value=False,\n",
        "            style={'width': 'calc(100% - 10px)'} # Adjust width\n",
        "        )\n",
        "    ], style={'marginBottom': '25px', 'width': '50%', 'margin': 'auto'}), # Adjust width and margin\n",
        "\n",
        "    html.Div([\n",
        "        html.H3(\"ClubHouse\", style={'textAlign': 'center', 'marginBottom': '10px'}),\n",
        "        dcc.Dropdown(\n",
        "            id='clubhouse-dropdown',\n",
        "            options=[{'label': 'True', 'value': True}, {'label': 'False', 'value': False}],\n",
        "            value=False,\n",
        "            style={'width': 'calc(100% - 10px)'} # Adjust width\n",
        "        )\n",
        "    ], style={'marginBottom': '25px', 'width': '50%', 'margin': 'auto'}), # Adjust width and margin\n",
        "\n",
        "    html.Div([\n",
        "        html.H3(\"CarParking\", style={'textAlign': 'center', 'marginBottom': '10px'}),\n",
        "        dcc.Dropdown(\n",
        "            id='carparking-dropdown',\n",
        "            options=[{'label': 'True', 'value': True}, {'label': 'False', 'value': False}],\n",
        "            value=True,\n",
        "            style={'width': 'calc(100% - 10px)'} # Adjust width\n",
        "        )\n",
        "    ], style={'marginBottom': '25px', 'width': '50%', 'margin': 'auto'}), # Adjust width and margin\n",
        "\n",
        "    html.Div([\n",
        "        html.H3(\"LiftAvailable\", style={'textAlign': 'center', 'marginBottom': '10px'}),\n",
        "        dcc.Dropdown(\n",
        "            id='liftavailable-dropdown',\n",
        "            options=[{'label': 'True', 'value': True}, {'label': 'False', 'value': False}],\n",
        "            value=True,\n",
        "            style={'width': 'calc(100% - 10px)'} # Adjust width\n",
        "        )\n",
        "    ], style={'marginBottom': '25px', 'width': '50%', 'margin': 'auto'}), # Adjust width and margin\n",
        "\n",
        "\n",
        "    html.Button('Predict Price', id='predict-button', n_clicks=0, style={'display': 'block', 'margin': '40px auto', 'padding': '15px 30px', 'fontSize': '18px'}), # Adjust margin, padding, and font size\n",
        "\n",
        "    html.Div(id='output-prediction', style={'textAlign': 'center', 'marginTop': '40px', 'fontSize': '24px'}) # Adjust margin and font size\n",
        "])\n",
        "\n",
        "@app.callback(\n",
        "    Output('output-prediction', 'children'),\n",
        "    Input('predict-button', 'n_clicks'),\n",
        "    State('area-input', 'value'),\n",
        "    State('location-dropdown', 'value'),\n",
        "    State('bhk-input', 'value'),\n",
        "    State('resale-dropdown', 'value'),\n",
        "    State('swimmingpool-dropdown', 'value'),\n",
        "    State('landscapedgardens-dropdown', 'value'),\n",
        "    State('clubhouse-dropdown', 'value'),\n",
        "    State('carparking-dropdown', 'value'),\n",
        "    State('liftavailable-dropdown', 'value')\n",
        ")\n",
        "def update_output(n_clicks, area, location, bhk, resale, swimmingpool, landscapedgardens, clubhouse, carparking, liftavailable):\n",
        "    if n_clicks > 0:\n",
        "        input_data = pd.DataFrame([[area, location, bhk, resale, swimmingpool, landscapedgardens, clubhouse, carparking, liftavailable]],\n",
        "                                  columns=['Area', 'Location', 'BHK', 'Resale', 'SwimmingPool', 'LandscapedGardens', 'ClubHouse', 'CarParking', 'LiftAvailable'])\n",
        "        prediction = model.predict(input_data)[0]\n",
        "        return f'Predicted Price: ₹{prediction:,.2f}'\n",
        "    return ''\n",
        "\n",
        "if __name__ == '__main__':\n",
        "    app.run(debug=True)"
      ],
      "execution_count": 6,
      "outputs": [
        {
          "output_type": "display_data",
          "data": {
            "text/plain": [
              "<IPython.core.display.Javascript object>"
            ],
            "application/javascript": [
              "(async (port, path, width, height, cache, element) => {\n",
              "    if (!google.colab.kernel.accessAllowed && !cache) {\n",
              "      return;\n",
              "    }\n",
              "    element.appendChild(document.createTextNode(''));\n",
              "    const url = await google.colab.kernel.proxyPort(port, {cache});\n",
              "    const iframe = document.createElement('iframe');\n",
              "    iframe.src = new URL(path, url).toString();\n",
              "    iframe.height = height;\n",
              "    iframe.width = width;\n",
              "    iframe.style.border = 0;\n",
              "    iframe.allow = [\n",
              "        'accelerometer',\n",
              "        'autoplay',\n",
              "        'camera',\n",
              "        'clipboard-read',\n",
              "        'clipboard-write',\n",
              "        'gyroscope',\n",
              "        'magnetometer',\n",
              "        'microphone',\n",
              "        'serial',\n",
              "        'usb',\n",
              "        'xr-spatial-tracking',\n",
              "    ].join('; ');\n",
              "    element.appendChild(iframe);\n",
              "  })(8050, \"/\", \"100%\", 650, false, window.element)"
            ]
          },
          "metadata": {}
        }
      ]
    }
  ],
  "metadata": {
    "colab": {
      "provenance": [],
      "include_colab_link": true
    },
    "kernelspec": {
      "display_name": "Python 3",
      "name": "python3"
    },
    "language_info": {
      "name": "python"
    }
  },
  "nbformat": 4,
  "nbformat_minor": 0
}